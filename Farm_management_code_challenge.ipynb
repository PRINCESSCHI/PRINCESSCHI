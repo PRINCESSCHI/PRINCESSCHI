{
  "cells": [
    {
      "cell_type": "markdown",
      "metadata": {
        "id": "view-in-github",
        "colab_type": "text"
      },
      "source": [
        "<a href=\"https://colab.research.google.com/github/PRINCESSCHI/PRINCESSCHI/blob/main/Farm_management_code_challenge.ipynb\" target=\"_parent\"><img src=\"https://colab.research.google.com/assets/colab-badge.svg\" alt=\"Open In Colab\"/></a>"
      ]
    },
    {
      "cell_type": "markdown",
      "metadata": {
        "id": "hSrKiypNX_Em"
      },
      "source": [
        "<div align=\"center\" style=\" font-size: 80%; text-align: center; margin: 0 auto\">\n",
        "<img src=\"https://raw.githubusercontent.com/Explore-AI/Pictures/master/Python-Notebook-Banners/Code_challenge.png\"  style=\"display: block; margin-left: auto; margin-right: auto;\";/>\n",
        "</div>"
      ],
      "id": "hSrKiypNX_Em"
    },
    {
      "cell_type": "markdown",
      "id": "f662d169",
      "metadata": {
        "id": "f662d169"
      },
      "source": [
        "# Code challenge: Farm harvest management\n"
      ]
    },
    {
      "cell_type": "markdown",
      "id": "26af890c",
      "metadata": {
        "id": "26af890c"
      },
      "source": [
        "In this code challenge, we will assist a farmer in calculating the total harvest from two fields (wheat and potatoes) and the overall expenses and profits for this season.\n",
        "\n"
      ]
    },
    {
      "cell_type": "markdown",
      "id": "2d230d14",
      "metadata": {
        "tags": [],
        "id": "2d230d14"
      },
      "source": [
        "## Learning objectives\n",
        "\n",
        "In this train, we will:\n",
        "- Understand how to perform basic arithmetic operations in a Jupyter notebook.\n",
        "- Know how to assign numerical values to variables.\n",
        "- Know how to use the print() function to display our results.\n"
      ]
    },
    {
      "cell_type": "markdown",
      "metadata": {
        "id": "AUmqNsY_X_Eu"
      },
      "source": [
        "## Instructions\n",
        "\n",
        "- **This code challenge does not count for marks.**\n",
        "- Do not add or remove cells in this notebook.\n",
        "- Answer the questions according to the specifications provided.\n",
        "- Use the given cell in each question to see if your function matches the expected outputs."
      ],
      "id": "AUmqNsY_X_Eu"
    },
    {
      "cell_type": "markdown",
      "metadata": {
        "id": "ORbSwhV-X_Ev"
      },
      "source": [
        "## Challenge 1\n",
        "Calculate the total harvest for the farmer."
      ],
      "id": "ORbSwhV-X_Ev"
    },
    {
      "cell_type": "code",
      "execution_count": 16,
      "metadata": {
        "colab": {
          "base_uri": "https://localhost:8080/"
        },
        "id": "arC2S2g4X_Ew",
        "outputId": "3f5d453b-7217-42b3-eace-816054ce3ace"
      },
      "outputs": [
        {
          "output_type": "stream",
          "name": "stdout",
          "text": [
            "Total harvest in kilograms: 5650\n"
          ]
        }
      ],
      "source": [
        "total_kgs_wheat_harvest = 2050\n",
        "total_kgs_potato_harvest = 3600\n",
        "\n",
        "total_kgs_potato_harvest = 3600\n",
        "total_kgs_harvest = total_kgs_wheat_harvest + total_kgs_potato_harvest\n",
        "print(\"Total harvest in kilograms:\", total_kgs_harvest)"
      ],
      "id": "arC2S2g4X_Ew"
    },
    {
      "cell_type": "markdown",
      "metadata": {
        "id": "SGY9P1yWX_Ey"
      },
      "source": [
        "**Expected outputs:**\n",
        "```python\n",
        "Total harvest in kilograms: 5650\n",
        "```"
      ],
      "id": "SGY9P1yWX_Ey"
    },
    {
      "cell_type": "markdown",
      "metadata": {
        "id": "Zdgv3PaaX_Ey"
      },
      "source": [
        "## Challenge 2\n",
        "Calculate the total expenses (in dollars) and print the result."
      ],
      "id": "Zdgv3PaaX_Ey"
    },
    {
      "cell_type": "code",
      "execution_count": 17,
      "metadata": {
        "colab": {
          "base_uri": "https://localhost:8080/"
        },
        "id": "yaGNIbLiX_Ez",
        "outputId": "bdd2aa83-e8da-4fbc-d737-df34ae9afd99"
      },
      "outputs": [
        {
          "output_type": "stream",
          "name": "stdout",
          "text": [
            "Total expenses in dollars:  3720\n"
          ]
        }
      ],
      "source": [
        "seed_expense = 650\n",
        "labour_expense = 3070\n",
        "\n",
        "total_expenses_dollars = seed_expense + labour_expense\n",
        "print(\"Total expenses in dollars: \", total_expenses_dollars)"
      ],
      "id": "yaGNIbLiX_Ez"
    },
    {
      "cell_type": "markdown",
      "metadata": {
        "id": "Xoj-mJzGX_Ez"
      },
      "source": [
        "**Expected outputs:**\n",
        "```python\n",
        "Total expenses in dollars: 3720\n",
        "```"
      ],
      "id": "Xoj-mJzGX_Ez"
    },
    {
      "cell_type": "markdown",
      "metadata": {
        "id": "n1OklCecX_E0"
      },
      "source": [
        "## Challenge 3\n",
        "Calculate the total revenue (in dollars) and print the result."
      ],
      "id": "n1OklCecX_E0"
    },
    {
      "cell_type": "code",
      "execution_count": 18,
      "metadata": {
        "colab": {
          "base_uri": "https://localhost:8080/"
        },
        "id": "yq0AMaIoX_E0",
        "outputId": "5c6a343b-f363-464a-aa5f-7faeb6b78751"
      },
      "outputs": [
        {
          "output_type": "stream",
          "name": "stdout",
          "text": [
            "Total revenue in dollars:  9140.0\n"
          ]
        }
      ],
      "source": [
        "price_per_kg_wheat = 2\n",
        "price_per_kg_potato = 1.4\n",
        "\n",
        "total_revenue_dollars = (price_per_kg_wheat * total_kgs_wheat_harvest) + (price_per_kg_potato * total_kgs_potato_harvest)\n",
        "print(\"Total revenue in dollars: \", total_revenue_dollars)"
      ],
      "id": "yq0AMaIoX_E0"
    },
    {
      "cell_type": "markdown",
      "metadata": {
        "id": "8DgDqVAvX_E0"
      },
      "source": [
        "**Expected outputs:**\n",
        "```python\n",
        "Total revenue in dollars: 9140\n",
        "```"
      ],
      "id": "8DgDqVAvX_E0"
    },
    {
      "cell_type": "markdown",
      "metadata": {
        "id": "xsbmKM6iX_E1"
      },
      "source": [
        "## Challenge 4\n",
        "Calculate the total profit (in dollars) and print the result."
      ],
      "id": "xsbmKM6iX_E1"
    },
    {
      "cell_type": "code",
      "execution_count": 19,
      "metadata": {
        "colab": {
          "base_uri": "https://localhost:8080/"
        },
        "id": "Sg-o7GkIX_E1",
        "outputId": "e92e5b38-d1e7-40d7-a487-2f655883c09b"
      },
      "outputs": [
        {
          "output_type": "stream",
          "name": "stdout",
          "text": [
            "Total profit in dollars: 5420.0\n"
          ]
        }
      ],
      "source": [
        "total_profit_dollars = total_revenue_dollars - total_expenses_dollars\n",
        "print(\"Total profit in dollars:\", total_profit_dollars )"
      ],
      "id": "Sg-o7GkIX_E1"
    },
    {
      "cell_type": "markdown",
      "metadata": {
        "id": "hDT9cxY8X_E1"
      },
      "source": [
        "**Expected outputs:**\n",
        "```python\n",
        "Total profit in dollars: 5420\n",
        "```"
      ],
      "id": "hDT9cxY8X_E1"
    },
    {
      "cell_type": "markdown",
      "id": "26fd094b-0fee-46f1-a4b8-73766813c42b",
      "metadata": {
        "tags": [],
        "id": "26fd094b-0fee-46f1-a4b8-73766813c42b"
      },
      "source": [
        "#  \n",
        "\n",
        "<div align=\"center\" style=\" font-size: 80%; text-align: center; margin: 0 auto\">\n",
        "<img src=\"https://raw.githubusercontent.com/Explore-AI/Pictures/refs/heads/master/ALX_banners/ALX_Navy.png\"  style=\"width:140px\";/>\n",
        "</div>"
      ]
    }
  ],
  "metadata": {
    "kernelspec": {
      "display_name": "Python 3 (ipykernel)",
      "language": "python",
      "name": "python3"
    },
    "language_info": {
      "codemirror_mode": {
        "name": "ipython",
        "version": 3
      },
      "file_extension": ".py",
      "mimetype": "text/x-python",
      "name": "python",
      "nbconvert_exporter": "python",
      "pygments_lexer": "ipython3",
      "version": "3.11.5"
    },
    "colab": {
      "provenance": [],
      "include_colab_link": true
    }
  },
  "nbformat": 4,
  "nbformat_minor": 5
}